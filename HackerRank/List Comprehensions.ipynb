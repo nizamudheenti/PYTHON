{
 "cells": [
  {
   "cell_type": "markdown",
   "metadata": {},
   "source": [
    "## Let's learn about list comprehensions! \n",
    "You are given three integers and representing the dimensions of a cuboid along with an integer . You have to print a list of all possible coordinates given by on a 3D grid where the sum of is not equal to . Here,\n",
    "\n",
    "Input Format\n",
    "\n",
    "Four integers\n",
    "and\n",
    "\n",
    "each on four separate lines, respectively.\n",
    "\n",
    "Constraints\n",
    "\n",
    "Print the list in lexicographic increasing order.\n",
    "\n",
    "Sample Input 0\n",
    "\n",
    "1\n",
    "1\n",
    "1\n",
    "2\n",
    "\n",
    "Sample Output 0\n",
    "\n",
    "[[0, 0, 0], [0, 0, 1], [0, 1, 0], [1, 0, 0], [1, 1, 1]]\n",
    "\n",
    "Explanation 0\n",
    "\n",
    "Concept\n",
    "\n",
    "You have already used lists in previous hacks. List comprehensions are an elegant way to build a list without having to use different for loops to append values one by one. This example might help.\n",
    "\n",
    "Example: You are given two integers x and y . You need to find out the ordered pairs ( i , j ) , such that ( i + j ) is not equal to n and print them in lexicographic order.( 0 <= i <= x ) and ( 0 <= j <= y) This is the code if we dont use list comprehensions in Python.\n",
    "\n",
    "python x = int ( raw_input()) y = int ( raw_input()) n = int ( raw_input()) ar = [] p = 0 for i in range ( x + 1 ) : for j in range( y + 1): if i+j != n: ar.append([]) ar[p] = [ i , j ] p+=1 print ar\n",
    "Other smaller codes may also exist, but using list comprehensions is always a good option. Code using list comprehensions:\n",
    "\n",
    "python x = int ( raw_input()) y = int ( raw_input()) n = int ( raw_input()) print [ [ i, j] for i in range( x + 1) for j in range( y + 1) if ( ( i + j ) != n )]\n",
    "\n",
    "Sample Input 1\n",
    "\n",
    "2\n",
    "2\n",
    "2\n",
    "2\n",
    "\n",
    "Sample Output 1\n",
    "\n",
    "[[0, 0, 0], [0, 0, 1], [0, 1, 0], [0, 1, 2], [0, 2, 1], [0, 2, 2], [1, 0, 0], [1, 0, 2], [1, 1, 1], [1, 1, 2], [1, 2, 0], [1, 2, 1], [1, 2, 2], [2, 0, 1], [2, 0, 2], [2, 1, 0], [2, 1, 1], [2, 1, 2], [2, 2, 0], [2, 2, 1], [2, 2, 2]]\n",
    "\n"
   ]
  },
  {
   "cell_type": "code",
   "execution_count": 3,
   "metadata": {},
   "outputs": [
    {
     "name": "stdin",
     "output_type": "stream",
     "text": [
      " 1\n",
      " 2\n",
      " 2\n",
      " 3\n"
     ]
    },
    {
     "name": "stdout",
     "output_type": "stream",
     "text": [
      "[[0, 0, 0], [0, 0, 1], [0, 0, 2], [0, 1, 0], [0, 1, 1], [0, 2, 0], [0, 2, 2], [1, 0, 0], [1, 0, 1], [1, 1, 0], [1, 1, 2], [1, 2, 1], [1, 2, 2]]\n"
     ]
    }
   ],
   "source": [
    "if __name__ == '__main__':\n",
    "    x = int(input())\n",
    "    y = int(input())\n",
    "    z = int(input())\n",
    "    n = int(input())\n",
    "ar = [] \n",
    "p = 0 \n",
    "for i in range ( x + 1 ) : \n",
    "    for j in range( y + 1):\n",
    "        for k in range(z+1): \n",
    "            if i+j+k != n: \n",
    "                ar.append([]) \n",
    "                ar[p] = [ i , j, k]\n",
    "                p+=1 \n",
    "print (ar) "
   ]
  },
  {
   "cell_type": "markdown",
   "metadata": {},
   "source": [
    "## Find the Runner-Up Score! "
   ]
  },
  {
   "cell_type": "markdown",
   "metadata": {},
   "source": [
    "Given the participants' score sheet for your University Sports Day, you are required to find the runner-up score. You are given\n",
    "\n",
    "scores. Store them in a list and find the score of the runner-up.\n",
    "\n",
    "Input Format\n",
    "\n",
    "The first line contains\n",
    ". The second line contains an array of\n",
    "\n",
    "integers each separated by a space.\n",
    "\n",
    "Constraints\n",
    "\n",
    "Output Format\n",
    "\n",
    "Print the runner-up score.\n",
    "\n",
    "Sample Input 0\n",
    "\n",
    "5\n",
    "\n",
    "2 3 6 6 5\n",
    "\n",
    "Sample Output 0\n",
    "\n",
    "5\n",
    "\n",
    "Explanation 0\n",
    "\n",
    "Given list is\n",
    ". The maximum score is , second maximum is . Hence, we print as the runner-up score. "
   ]
  },
  {
   "cell_type": "code",
   "execution_count": 15,
   "metadata": {},
   "outputs": [
    {
     "name": "stdin",
     "output_type": "stream",
     "text": [
      " 5\n",
      " 1 2 2 3 3\n"
     ]
    },
    {
     "name": "stdout",
     "output_type": "stream",
     "text": [
      "2\n"
     ]
    }
   ],
   "source": [
    "if __name__ == '__main__':\n",
    "    n = int(input())\n",
    "    arr = [int(i) for i in input().split()]\n",
    "    rr=[]\n",
    "    for i in arr:\n",
    "        if i in rr:\n",
    "            c=0\n",
    "        else:\n",
    "            rr.append(i)\n",
    "    rr.sort()\n",
    "    print(rr[-2])"
   ]
  },
  {
   "cell_type": "code",
   "execution_count": 31,
   "metadata": {},
   "outputs": [
    {
     "name": "stdin",
     "output_type": "stream",
     "text": [
      " 4\n",
      " nio\\\n",
      " 4\n",
      " d\n",
      " 5\n",
      " f\n",
      " 3\n",
      " d\n",
      " 3\n"
     ]
    },
    {
     "name": "stdout",
     "output_type": "stream",
     "text": [
      "[['nio\\\\', 4.0], ['d', 5.0], ['f', 3.0], ['d', 3.0]]\n"
     ]
    }
   ],
   "source": [
    "if __name__ == '__main__':\n",
    "    arr=[]\n",
    "    for _ in range(int(input())):\n",
    "        name = input()\n",
    "        score = float(input())\n",
    "        arr.append([name,score])\n",
    "    print(arr)"
   ]
  },
  {
   "cell_type": "code",
   "execution_count": 28,
   "metadata": {},
   "outputs": [
    {
     "name": "stdout",
     "output_type": "stream",
     "text": [
      "3.0\n",
      "3.0\n"
     ]
    }
   ],
   "source": [
    "for x in arr:\n",
    "    print(x[-1])"
   ]
  },
  {
   "cell_type": "markdown",
   "metadata": {},
   "source": [
    "### Given the names and grades for each student in a Physics class of\n",
    "\n",
    "students, store them in a nested list and print the name(s) of any student(s) having the second lowest grade.\n",
    "\n",
    "Note: If there are multiple students with the same grade, order their names alphabetically and print each name on a new line.\n",
    "\n",
    "Input Format\n",
    "\n",
    "The first line contains an integer,\n",
    ", the number of students.\n",
    "The subsequent lines describe each student over\n",
    "\n",
    "lines; the first line contains a student's name, and the second line contains their grade.\n",
    "\n",
    "Constraints\n",
    "\n",
    "    There will always be one or more students having the second lowest grade.\n",
    "\n",
    "Output Format\n",
    "\n",
    "Print the name(s) of any student(s) having the second lowest grade in Physics; if there are multiple students, order their names alphabetically and print each one on a new line.\n",
    "\n",
    "Sample Input 0\n",
    "\n",
    "5\n",
    "Harry\n",
    "37.21\n",
    "Berry\n",
    "37.21\n",
    "Tina\n",
    "37.2\n",
    "Akriti\n",
    "41\n",
    "Harsh\n",
    "39\n",
    "\n",
    "Sample Output 0\n",
    "\n",
    "Berry\n",
    "Harry\n",
    "\n",
    "Explanation 0\n",
    "\n",
    "There are\n",
    "\n",
    "students in this class whose names and grades are assembled to build the following list:\n",
    "\n",
    "python students = [['Harry', 37.21], ['Berry', 37.21], ['Tina', 37.2], ['Akriti', 41], ['Harsh', 39]]\n",
    "\n",
    "The lowest grade of\n",
    "belongs to Tina. The second lowest grade of belongs to both Harry and Berry, so we order their names alphabetically and print each name on a new line."
   ]
  },
  {
   "cell_type": "code",
   "execution_count": 44,
   "metadata": {},
   "outputs": [
    {
     "name": "stdin",
     "output_type": "stream",
     "text": [
      " 6\n",
      " n\n",
      " 2\n",
      " i\n",
      " 2\n",
      " z\n",
      " 3\n",
      " a\n",
      " 3\n",
      " m\n",
      " 4\n",
      " u\n",
      " 4\n"
     ]
    },
    {
     "name": "stdout",
     "output_type": "stream",
     "text": [
      "['n', 2.0]\n",
      "['i', 2.0]\n",
      "['z', 3.0]\n",
      "['a', 3.0]\n",
      "['m', 4.0]\n",
      "['u', 4.0]\n"
     ]
    }
   ],
   "source": [
    "if __name__ == '__main__':\n",
    "    arr=[]\n",
    "    for _ in range(int(input())):\n",
    "        name = input()\n",
    "        score = float(input())\n",
    "        arr.append([name,score])\n",
    "    arr.sort(key = lambda x: x[1])\n",
    "    a2=[]\n",
    "    for i in arr:\n",
    "        if i[1] not in a2:\n",
    "            a2.append(i[1])\n",
    "    a=a2[1]\n",
    "    a1=[]\n",
    "    for i in arr:\n",
    "        #print (i)\n",
    "        if i[1]==a:\n",
    "            a1.append(i[0])\n",
    "    a1.sort()\n",
    "    for i in a1:\n",
    "        print(i)"
   ]
  },
  {
   "cell_type": "code",
   "execution_count": 45,
   "metadata": {},
   "outputs": [
    {
     "data": {
      "text/plain": [
       "3.0"
      ]
     },
     "execution_count": 45,
     "metadata": {},
     "output_type": "execute_result"
    }
   ],
   "source": [
    "a"
   ]
  },
  {
   "cell_type": "code",
   "execution_count": 46,
   "metadata": {},
   "outputs": [
    {
     "data": {
      "text/plain": [
       "[['n', 2.0], ['i', 2.0], ['z', 3.0], ['a', 3.0], ['m', 4.0], ['u', 4.0]]"
      ]
     },
     "execution_count": 46,
     "metadata": {},
     "output_type": "execute_result"
    }
   ],
   "source": [
    "arr"
   ]
  },
  {
   "cell_type": "code",
   "execution_count": 47,
   "metadata": {},
   "outputs": [
    {
     "data": {
      "text/plain": [
       "['z', 'a']"
      ]
     },
     "execution_count": 47,
     "metadata": {},
     "output_type": "execute_result"
    }
   ],
   "source": [
    "a1"
   ]
  },
  {
   "cell_type": "markdown",
   "metadata": {},
   "source": [
    "You have a record of students. Each record contains the student's name, and their percent marks in Maths, Physics and Chemistry. The marks can be floating values. The user enters some integer followed by the names and marks for\n",
    "\n",
    "students. You are required to save the record in a dictionary data type. The user then enters a student's name. Output the average percentage marks obtained by that student, correct to two decimal places.\n",
    "\n",
    "Input Format\n",
    "\n",
    "The first line contains the integer\n",
    ", the number of students. The next\n",
    "\n",
    "lines contains the name and marks obtained by that student separated by a space. The final line contains the name of a particular student previously listed.\n",
    "\n",
    "Constraints\n",
    "\n",
    "Output Format\n",
    "\n",
    "Print one line: The average of the marks obtained by the particular student correct to 2 decimal places.\n",
    "\n",
    "Sample Input 0\n",
    "\n",
    "3\n",
    "Krishna 67 68 69\n",
    "Arjun 70 98 63\n",
    "Malika 52 56 60\n",
    "Malika\n",
    "\n",
    "Sample Output 0\n",
    "\n",
    "56.00\n",
    "\n",
    "Explanation 0\n",
    "\n",
    "Marks for Malika are\n",
    "whose average is\n",
    "\n",
    "Sample Input 1\n",
    "\n",
    "2\n",
    "Harsh 25 26.5 28\n",
    "Anurag 26 28 30\n",
    "Harsh\n",
    "\n",
    "Sample Output 1\n",
    "\n",
    "26.50\n",
    "\n"
   ]
  },
  {
   "cell_type": "code",
   "execution_count": 3,
   "metadata": {},
   "outputs": [
    {
     "name": "stdin",
     "output_type": "stream",
     "text": [
      " 2\n",
      " nizam 22 33 44 22\n",
      " naz 22 33 44 44\n",
      " naz\n"
     ]
    },
    {
     "name": "stdout",
     "output_type": "stream",
     "text": [
      "35.75\n"
     ]
    }
   ],
   "source": [
    "if __name__ == '__main__':\n",
    "    n = int(input())\n",
    "    student_marks = {}\n",
    "    for _ in range(n):\n",
    "        name, *line = input().split()\n",
    "        scores = list(map(float, line))\n",
    "        student_marks[name] = scores\n",
    "    query_name = input()\n",
    "    av=0\n",
    "    for i in student_marks[query_name]:\n",
    "        av=av+i\n",
    "    print(av/len(student_marks[query_name]))\n",
    "        \n",
    "    \n"
   ]
  },
  {
   "cell_type": "code",
   "execution_count": null,
   "metadata": {},
   "outputs": [],
   "source": [
    "query_name"
   ]
  },
  {
   "cell_type": "code",
   "execution_count": null,
   "metadata": {},
   "outputs": [],
   "source": []
  },
  {
   "cell_type": "code",
   "execution_count": null,
   "metadata": {},
   "outputs": [],
   "source": []
  }
 ],
 "metadata": {
  "kernelspec": {
   "display_name": "Python 3",
   "language": "python",
   "name": "python3"
  },
  "language_info": {
   "codemirror_mode": {
    "name": "ipython",
    "version": 3
   },
   "file_extension": ".py",
   "mimetype": "text/x-python",
   "name": "python",
   "nbconvert_exporter": "python",
   "pygments_lexer": "ipython3",
   "version": "3.7.5"
  }
 },
 "nbformat": 4,
 "nbformat_minor": 4
}
